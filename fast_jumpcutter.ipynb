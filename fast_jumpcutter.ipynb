{
  "nbformat": 4,
  "nbformat_minor": 0,
  "metadata": {
    "colab": {
      "name": "fast-jumpcutter.ipynb",
      "provenance": [],
      "collapsed_sections": [],
      "authorship_tag": "ABX9TyNHjI6SJuKy4AU6KpTeq2U9",
      "include_colab_link": true
    },
    "kernelspec": {
      "name": "python3",
      "display_name": "Python 3"
    }
  },
  "cells": [
    {
      "cell_type": "markdown",
      "metadata": {
        "id": "view-in-github",
        "colab_type": "text"
      },
      "source": [
        "<a href=\"https://colab.research.google.com/github/EgorVoron/fast-jumpcutter/blob/master/fast_jumpcutter.ipynb\" target=\"_parent\"><img src=\"https://colab.research.google.com/assets/colab-badge.svg\" alt=\"Open In Colab\"/></a>"
      ]
    },
    {
      "cell_type": "code",
      "metadata": {
        "colab": {
          "base_uri": "https://localhost:8080/"
        },
        "id": "No5D7O2SZYTD",
        "outputId": "9212f072-2921-4573-9c85-d7894bf7f1af"
      },
      "source": [
        "#@title Installation\r\n",
        "!git clone https://github.com/EgorVoron/fast-jumpcutter\r\n",
        "!pip install -r fast-jumpcutter/requirements.txt"
      ],
      "execution_count": 1,
      "outputs": [
        {
          "output_type": "stream",
          "text": [
            "Cloning into 'fast-jumpcutter'...\n",
            "remote: Enumerating objects: 65, done.\u001b[K\n",
            "remote: Counting objects: 100% (65/65), done.\u001b[K\n",
            "remote: Compressing objects: 100% (46/46), done.\u001b[K\n",
            "remote: Total 65 (delta 19), reused 64 (delta 18), pack-reused 0\u001b[K\n",
            "Unpacking objects: 100% (65/65), done.\n",
            "Collecting audiotsm\n",
            "  Downloading https://files.pythonhosted.org/packages/9c/7d/a214ff529fed9501452252d24231f54ab5afe8691b4f81e5d07d204070b4/audiotsm-0.1.2-py2.py3-none-any.whl\n",
            "Requirement already satisfied: scipy in /usr/local/lib/python3.6/dist-packages (from -r fast-jumpcutter/requirements.txt (line 2)) (1.4.1)\n",
            "Requirement already satisfied: numpy in /usr/local/lib/python3.6/dist-packages (from -r fast-jumpcutter/requirements.txt (line 3)) (1.19.5)\n",
            "Collecting pytube\n",
            "\u001b[?25l  Downloading https://files.pythonhosted.org/packages/3c/1d/013b6498ecaa876d0d9722698f96faa4830266b306cd18c12b847bd10291/pytube-10.4.1-py3-none-any.whl (42kB)\n",
            "\u001b[K     |████████████████████████████████| 51kB 6.3MB/s \n",
            "\u001b[?25hRequirement already satisfied: typing-extensions in /usr/local/lib/python3.6/dist-packages (from pytube->-r fast-jumpcutter/requirements.txt (line 4)) (3.7.4.3)\n",
            "Installing collected packages: audiotsm, pytube\n",
            "Successfully installed audiotsm-0.1.2 pytube-10.4.1\n"
          ],
          "name": "stdout"
        }
      ]
    },
    {
      "cell_type": "code",
      "metadata": {
        "colab": {
          "base_uri": "https://localhost:8080/",
          "height": 34
        },
        "cellView": "form",
        "id": "bmmiUp2Le0GG",
        "outputId": "d57f82a4-7f5d-4926-e6ef-a1377b666381"
      },
      "source": [
        "#@title JS magic\r\n",
        "import IPython\r\n",
        "from google.colab import output\r\n",
        "\r\n",
        "display(IPython.display.Javascript('''\r\n",
        " function ClickConnect(){\r\n",
        "   btn = document.querySelector(\"colab-connect-button\")\r\n",
        "   if (btn != null){\r\n",
        "     console.log(\"Click colab-connect-button\"); \r\n",
        "     btn.click() \r\n",
        "     }\r\n",
        "   \r\n",
        "   btn = document.getElementById('ok')\r\n",
        "   if (btn != null){\r\n",
        "     console.log(\"Click reconnect\"); \r\n",
        "     btn.click() \r\n",
        "     }\r\n",
        "  }\r\n",
        "  \r\n",
        "setInterval(ClickConnect,60000)\r\n",
        "'''))\r\n",
        "\r\n",
        "print(\"Done.\")"
      ],
      "execution_count": null,
      "outputs": [
        {
          "output_type": "display_data",
          "data": {
            "application/javascript": [
              "\n",
              " function ClickConnect(){\n",
              "   btn = document.querySelector(\"colab-connect-button\")\n",
              "   if (btn != null){\n",
              "     console.log(\"Click colab-connect-button\"); \n",
              "     btn.click() \n",
              "     }\n",
              "   \n",
              "   btn = document.getElementById('ok')\n",
              "   if (btn != null){\n",
              "     console.log(\"Click reconnect\"); \n",
              "     btn.click() \n",
              "     }\n",
              "  }\n",
              "  \n",
              "setInterval(ClickConnect,60000)\n"
            ],
            "text/plain": [
              "<IPython.core.display.Javascript object>"
            ]
          },
          "metadata": {
            "tags": []
          }
        },
        {
          "output_type": "stream",
          "text": [
            "Done.\n"
          ],
          "name": "stdout"
        }
      ]
    },
    {
      "cell_type": "code",
      "metadata": {
        "id": "gU0tsQtsZ45g"
      },
      "source": [
        "#@title Parameters\r\n",
        "# INPUT_FILE = '/content/input_1.mp4' #@param {type:\"string\"}\r\n",
        "URL_FILE = '/content/urls.txt' #@param {type: \"string\"}\r\n",
        "OUTPUT_DIR = '/content/result' #@param {type:\"string\"}\r\n",
        "SILENT_THRESHOLD = 0.03 #@param {type:\"slider\", min:0.0, max:1.0, step:0.01}\r\n",
        "FRAME_SPREADAGE = 1 #@param {type:\"slider\", min:0, max:10, step:1}\r\n",
        "SILENT_SPEED = 5.0 #@param {type:\"slider\", min:2.0, max:50.0, step:1.0}\r\n",
        "SOUNDED_SPEED = 1.0 #@param {type:\"slider\", min:1.0, max:2, step:0.25}\r\n",
        "FRAME_QUALITY = 3 #@param {type:\"slider\", min:1, max:31, step:1}\r\n",
        "RESOLUTION = '480p' #@param {type:\"string\"}\r\n",
        "PARALLEL_ALL = False #@param {type:\"boolean\"}\r\n",
        "PARALLEL_ALL = int(PARALLEL_ALL)"
      ],
      "execution_count": 2,
      "outputs": []
    },
    {
      "cell_type": "code",
      "metadata": {
        "colab": {
          "base_uri": "https://localhost:8080/"
        },
        "id": "3apPlNtOZnAU",
        "outputId": "b7845914-ac52-4d3e-8e88-008bf020344d"
      },
      "source": [
        "#@title Let's fucking gooooooooooooo\r\n",
        "%%time\r\n",
        "!python fast-jumpcutter/jumpcutter.py --url_file $URL_FILE --output_dir $OUTPUT_DIR --silent_threshold $SILENT_THRESHOLD --frame_margin $FRAME_SPREADAGE --silent_speed $SILENT_SPEED --sounded_speed $SOUNDED_SPEED --frame_quality $FRAME_QUALITY --resolution $RESOLUTION --parallel_all $PARALLEL_ALL"
      ],
      "execution_count": 3,
      "outputs": [
        {
          "output_type": "stream",
          "text": [
            "Started\n",
            "video:  /content/Иванов_Дмитрий_-_Современная_аналитическая_философия.mp4\n",
            "audio:  /content/Иванов_Дмитрий_-_Современная_аналитическая_философия.webm\n",
            "ffmpeg version 3.4.8-0ubuntu0.2 Copyright (c) 2000-2020 the FFmpeg developers\n",
            "  built with gcc 7 (Ubuntu 7.5.0-3ubuntu1~18.04)\n",
            "  configuration: --prefix=/usr --extra-version=0ubuntu0.2 --toolchain=hardened --libdir=/usr/lib/x86_64-linux-gnu --incdir=/usr/include/x86_64-linux-gnu --enable-gpl --disable-stripping --enable-avresample --enable-avisynth --enable-gnutls --enable-ladspa --enable-libass --enable-libbluray --enable-libbs2b --enable-libcaca --enable-libcdio --enable-libflite --enable-libfontconfig --enable-libfreetype --enable-libfribidi --enable-libgme --enable-libgsm --enable-libmp3lame --enable-libmysofa --enable-libopenjpeg --enable-libopenmpt --enable-libopus --enable-libpulse --enable-librubberband --enable-librsvg --enable-libshine --enable-libsnappy --enable-libsoxr --enable-libspeex --enable-libssh --enable-libtheora --enable-libtwolame --enable-libvorbis --enable-libvpx --enable-libwavpack --enable-libwebp --enable-libx265 --enable-libxml2 --enable-libxvid --enable-libzmq --enable-libzvbi --enable-omx --enable-openal --enable-opengl --enable-sdl2 --enable-libdc1394 --enable-libdrm --enable-libiec61883 --enable-chromaprint --enable-frei0r --enable-libopencv --enable-libx264 --enable-shared\n",
            "  libavutil      55. 78.100 / 55. 78.100\n",
            "  libavcodec     57.107.100 / 57.107.100\n",
            "  libavformat    57. 83.100 / 57. 83.100\n",
            "  libavdevice    57. 10.100 / 57. 10.100\n",
            "  libavfilter     6.107.100 /  6.107.100\n",
            "  libavresample   3.  7.  0 /  3.  7.  0\n",
            "  libswscale      4.  8.100 /  4.  8.100\n",
            "  libswresample   2.  9.100 /  2.  9.100\n",
            "  libpostproc    54.  7.100 / 54.  7.100\n",
            "Input #0, mov,mp4,m4a,3gp,3g2,mj2, from '/content/Иванов_Дмитрий_-_Современная_аналитическая_философия.mp4':\n",
            "  Metadata:\n",
            "    major_brand     : dash\n",
            "    minor_version   : 0\n",
            "    compatible_brands: iso6avc1mp41\n",
            "    creation_time   : 2016-07-27T09:10:20.000000Z\n",
            "  Duration: 00:09:23.44, start: 0.000000, bitrate: 493 kb/s\n",
            "    Stream #0:0(und): Video: h264 (Main) (avc1 / 0x31637661), yuv420p(tv, bt709, progressive), 854x480 [SAR 1:1 DAR 427:240], 1 kb/s, 25 fps, 25 tbr, 90k tbn, 50 tbc (default)\n",
            "    Metadata:\n",
            "      creation_time   : 2016-07-27T09:10:20.000000Z\n",
            "      handler_name    : VideoHandler\n",
            "Input #1, matroska,webm, from '/content/Иванов_Дмитрий_-_Современная_аналитическая_философия.webm':\n",
            "  Metadata:\n",
            "    encoder         : google/video-file\n",
            "  Duration: 00:09:23.48, start: -0.007000, bitrate: 97 kb/s\n",
            "    Stream #1:0(eng): Audio: opus, 48000 Hz, stereo, fltp (default)\n",
            "Stream mapping:\n",
            "  Stream #0:0 -> #0:0 (copy)\n",
            "  Stream #1:0 -> #0:1 (opus (native) -> aac (native))\n",
            "Press [q] to stop, [?] for help\n",
            "Output #0, mp4, to '/content/Иванов_Дмитрий_-_Современная_аналитическая_философия_MERGED.mp4':\n",
            "  Metadata:\n",
            "    major_brand     : dash\n",
            "    minor_version   : 0\n",
            "    compatible_brands: iso6avc1mp41\n",
            "    encoder         : Lavf57.83.100\n",
            "    Stream #0:0(und): Video: h264 (Main) (avc1 / 0x31637661), yuv420p(tv, bt709, progressive), 854x480 [SAR 1:1 DAR 427:240], q=2-31, 1 kb/s, 25 fps, 25 tbr, 90k tbn, 90k tbc (default)\n",
            "    Metadata:\n",
            "      creation_time   : 2016-07-27T09:10:20.000000Z\n",
            "      handler_name    : VideoHandler\n",
            "    Stream #0:1(eng): Audio: aac (LC) (mp4a / 0x6134706D), 48000 Hz, stereo, fltp, 128 kb/s (default)\n",
            "    Metadata:\n",
            "      encoder         : Lavc57.107.100 aac\n",
            "frame=14086 fps=568 q=-1.0 Lsize=   42845kB time=00:09:23.47 bitrate= 622.9kbits/s speed=22.7x    \n",
            "video:33770kB audio:8676kB subtitle:0kB other streams:0kB global headers:0kB muxing overhead: 0.941406%\n",
            "\u001b[1;36m[aac @ 0x55c0ff7d6000] \u001b[0mQavg: 1447.818\n",
            "fast-jumpcutter/jumpcutter.py:275: UserWarning: invalid url: \n",
            "  warn(f'invalid url: {url}')\n",
            "Downloading 0 video\n",
            "ffmpeg version 3.4.8-0ubuntu0.2 Copyright (c) 2000-2020 the FFmpeg developers\n",
            "  built with gcc 7 (Ubuntu 7.5.0-3ubuntu1~18.04)\n",
            "  configuration: --prefix=/usr --extra-version=0ubuntu0.2 --toolchain=hardened --libdir=/usr/lib/x86_64-linux-gnu --incdir=/usr/include/x86_64-linux-gnu --enable-gpl --disable-stripping --enable-avresample --enable-avisynth --enable-gnutls --enable-ladspa --enable-libass --enable-libbluray --enable-libbs2b --enable-libcaca --enable-libcdio --enable-libflite --enable-libfontconfig --enable-libfreetype --enable-libfribidi --enable-libgme --enable-libgsm --enable-libmp3lame --enable-libmysofa --enable-libopenjpeg --enable-libopenmpt --enable-libopus --enable-libpulse --enable-librubberband --enable-librsvg --enable-libshine --enable-libsnappy --enable-libsoxr --enable-libspeex --enable-libssh --enable-libtheora --enable-libtwolame --enable-libvorbis --enable-libvpx --enable-libwavpack --enable-libwebp --enable-libx265 --enable-libxml2 --enable-libxvid --enable-libzmq --enable-libzvbi --enable-omx --enable-openal --enable-opengl --enable-sdl2 --enable-libdc1394 --enable-libdrm --enable-libiec61883 --enable-chromaprint --enable-frei0r --enable-libopencv --enable-libx264 --enable-shared\n",
            "  libavutil      55. 78.100 / 55. 78.100\n",
            "  libavcodec     57.107.100 / 57.107.100\n",
            "  libavformat    57. 83.100 / 57. 83.100\n",
            "  libavdevice    57. 10.100 / 57. 10.100\n",
            "  libavfilter     6.107.100 /  6.107.100\n",
            "  libavresample   3.  7.  0 /  3.  7.  0\n",
            "  libswscale      4.  8.100 /  4.  8.100\n",
            "  libswresample   2.  9.100 /  2.  9.100\n",
            "  libpostproc    54.  7.100 / 54.  7.100\n",
            "Input #0, mov,mp4,m4a,3gp,3g2,mj2, from '/content/Иванов_Дмитрий_-_Современная_аналитическая_философия_MERGED.mp4':\n",
            "  Metadata:\n",
            "    major_brand     : isom\n",
            "    minor_version   : 512\n",
            "    compatible_brands: isomiso2avc1mp41\n",
            "    encoder         : Lavf57.83.100\n",
            "  Duration: 00:09:23.48, start: 0.000000, bitrate: 622 kb/s\n",
            "    Stream #0:0(und): Video: h264 (Main) (avc1 / 0x31637661), yuv420p(tv, bt709), 854x480 [SAR 1:1 DAR 427:240], 490 kb/s, 25 fps, 25 tbr, 90k tbn, 50 tbc (default)\n",
            "    Metadata:\n",
            "      handler_name    : VideoHandler\n",
            "    Stream #0:1(eng): Audio: aac (LC) (mp4a / 0x6134706D), 48000 Hz, stereo, fltp, 126 kb/s (default)\n",
            "    Metadata:\n",
            "      handler_name    : SoundHandler\n",
            "Input #0, mov,mp4,m4a,3gp,3g2,mj2, from '/content/Иванов_Дмитрий_-_Современная_аналитическая_философия_MERGED.mp4':\n",
            "  Metadata:\n",
            "    major_brand     : isom\n",
            "    minor_version   : 512\n",
            "    compatible_brands: isomiso2avc1mp41\n",
            "    encoder         : Lavf57.83.100\n",
            "  Duration: 00:09:23.48, start: 0.000000, bitrate: 622 kb/s\n",
            "    Stream #0:0(und): Video: h264 (Main) (avc1 / 0x31637661), yuv420p(tv, bt709), 854x480 [SAR 1:1 DAR 427:240], 490 kb/s, 25 fps, 25 tbr, 90k tbn, 50 tbc (default)\n",
            "    Metadata:\n",
            "      handler_name    : VideoHandler\n",
            "    Stream #0:1(eng): Audio: aac (LC) (mp4a / 0x6134706D), 48000 Hz, stereo, fltp, 126 kb/s (default)\n",
            "    Metadata:\n",
            "      handler_name    : SoundHandler\n",
            "Stream mapping:\n",
            "  Stream #0:1 -> #0:0 (aac (native) -> pcm_s16le (native))\n",
            "Press [q] to stop, [?] for help\n",
            "Stream mapping:\n",
            "  Stream #0:0 -> #0:0 (h264 (native) -> mjpeg (native))\n",
            "Press [q] to stop, [?] for help\n",
            "Output #0, wav, to 'TEMP46800/audio.wav':\n",
            "  Metadata:\n",
            "    major_brand     : isom\n",
            "    minor_version   : 512\n",
            "    compatible_brands: isomiso2avc1mp41\n",
            "    ISFT            : Lavf57.83.100\n",
            "    Stream #0:0(eng): Audio: pcm_s16le ([1][0][0][0] / 0x0001), 44100 Hz, stereo, s16, 1411 kb/s (default)\n",
            "    Metadata:\n",
            "      handler_name    : SoundHandler\n",
            "      encoder         : Lavc57.107.100 pcm_s16le\n",
            "\u001b[1;34m[swscaler @ 0x562aaff66000] \u001b[0m\u001b[0;33mdeprecated pixel format used, make sure you did set range correctly\n",
            "\u001b[0mOutput #0, image2, to 'TEMP46800/frame%06d.jpg':\n",
            "  Metadata:\n",
            "    major_brand     : isom\n",
            "    minor_version   : 512\n",
            "    compatible_brands: isomiso2avc1mp41\n",
            "    encoder         : Lavf57.83.100\n",
            "    Stream #0:0(und): Video: mjpeg, yuvj420p(pc), 854x480 [SAR 1:1 DAR 427:240], q=2-31, 200 kb/s, 25 fps, 25 tbn, 25 tbc (default)\n",
            "    Metadata:\n",
            "      handler_name    : VideoHandler\n",
            "      encoder         : Lavc57.107.100 mjpeg\n",
            "    Side data:\n",
            "      cpb: bitrate max/min/avg: 0/0/200000 buffer size: 0 vbv_delay: -1\n",
            "size=   97068kB time=00:09:23.47 bitrate=1411.2kbits/s speed= 319x    \n",
            "video:0kB audio:97068kB subtitle:0kB other streams:0kB global headers:0kB muxing overhead: 0.000078%\n",
            "2 time-altered frames saved.\n",
            "1000 time-altered frames saved.\n",
            "2000 time-altered frames saved.\n",
            "frame=14086 fps=140 q=3.0 Lsize=N/A time=00:09:23.44 bitrate=N/A speed= 5.6x    \n",
            "video:352184kB audio:0kB subtitle:0kB other streams:0kB global headers:0kB muxing overhead: unknown\n",
            "3000 time-altered frames saved.\n",
            "4000 time-altered frames saved.\n",
            "5000 time-altered frames saved.\n",
            "6000 time-altered frames saved.\n",
            "7000 time-altered frames saved.\n",
            "8000 time-altered frames saved.\n",
            "9000 time-altered frames saved.\n",
            "10000 time-altered frames saved.\n",
            "11000 time-altered frames saved.\n",
            "12000 time-altered frames saved.\n",
            "13000 time-altered frames saved.\n",
            "ffmpeg version 3.4.8-0ubuntu0.2 Copyright (c) 2000-2020 the FFmpeg developers\n",
            "  built with gcc 7 (Ubuntu 7.5.0-3ubuntu1~18.04)\n",
            "  configuration: --prefix=/usr --extra-version=0ubuntu0.2 --toolchain=hardened --libdir=/usr/lib/x86_64-linux-gnu --incdir=/usr/include/x86_64-linux-gnu --enable-gpl --disable-stripping --enable-avresample --enable-avisynth --enable-gnutls --enable-ladspa --enable-libass --enable-libbluray --enable-libbs2b --enable-libcaca --enable-libcdio --enable-libflite --enable-libfontconfig --enable-libfreetype --enable-libfribidi --enable-libgme --enable-libgsm --enable-libmp3lame --enable-libmysofa --enable-libopenjpeg --enable-libopenmpt --enable-libopus --enable-libpulse --enable-librubberband --enable-librsvg --enable-libshine --enable-libsnappy --enable-libsoxr --enable-libspeex --enable-libssh --enable-libtheora --enable-libtwolame --enable-libvorbis --enable-libvpx --enable-libwavpack --enable-libwebp --enable-libx265 --enable-libxml2 --enable-libxvid --enable-libzmq --enable-libzvbi --enable-omx --enable-openal --enable-opengl --enable-sdl2 --enable-libdc1394 --enable-libdrm --enable-libiec61883 --enable-chromaprint --enable-frei0r --enable-libopencv --enable-libx264 --enable-shared\n",
            "  libavutil      55. 78.100 / 55. 78.100\n",
            "  libavcodec     57.107.100 / 57.107.100\n",
            "  libavformat    57. 83.100 / 57. 83.100\n",
            "  libavdevice    57. 10.100 / 57. 10.100\n",
            "  libavfilter     6.107.100 /  6.107.100\n",
            "  libavresample   3.  7.  0 /  3.  7.  0\n",
            "  libswscale      4.  8.100 /  4.  8.100\n",
            "  libswresample   2.  9.100 /  2.  9.100\n",
            "  libpostproc    54.  7.100 / 54.  7.100\n",
            "Input #0, image2, from 'TEMP46800/newFrame%06d.jpg':\n",
            "  Duration: 00:09:08.16, start: 0.000000, bitrate: N/A\n",
            "    Stream #0:0: Video: mjpeg, yuvj420p(pc, bt470bg/unknown/unknown), 854x480 [SAR 1:1 DAR 427:240], 25 fps, 25 tbr, 25 tbn, 25 tbc\n",
            "\u001b[0;33mGuessed Channel Layout for Input Stream #1.0 : stereo\n",
            "\u001b[0mInput #1, wav, from 'TEMP46800/audioNew.wav':\n",
            "  Duration: 00:09:08.15, bitrate: 5644 kb/s\n",
            "    Stream #1:0: Audio: pcm_f64le ([3][0][0][0] / 0x0003), 44100 Hz, stereo, dbl, 5644 kb/s\n",
            "Stream mapping:\n",
            "  Stream #0:0 -> #0:0 (mjpeg (native) -> h264 (libx264))\n",
            "  Stream #1:0 -> #0:1 (pcm_f64le (native) -> aac (native))\n",
            "Press [q] to stop, [?] for help\n",
            "\u001b[0;35m[image2 @ 0x56406660e000] \u001b[0m\u001b[0;33mThread message queue blocking; consider raising the thread_queue_size option (current value: 8)\n",
            "\u001b[0m\u001b[1;36m[libx264 @ 0x564066614d00] \u001b[0musing SAR=1/1\n",
            "\u001b[1;36m[libx264 @ 0x564066614d00] \u001b[0musing cpu capabilities: MMX2 SSE2Fast SSSE3 SSE4.2 AVX FMA3 BMI2 AVX2 AVX512\n",
            "\u001b[1;36m[libx264 @ 0x564066614d00] \u001b[0mprofile High, level 3.0\n",
            "\u001b[1;36m[libx264 @ 0x564066614d00] \u001b[0m264 - core 152 r2854 e9a5903 - H.264/MPEG-4 AVC codec - Copyleft 2003-2017 - http://www.videolan.org/x264.html - options: cabac=1 ref=3 deblock=1:0:0 analyse=0x3:0x113 me=hex subme=7 psy=1 psy_rd=1.00:0.00 mixed_ref=1 me_range=16 chroma_me=1 trellis=1 8x8dct=1 cqm=0 deadzone=21,11 fast_pskip=1 chroma_qp_offset=-2 threads=3 lookahead_threads=1 sliced_threads=0 nr=0 decimate=1 interlaced=0 bluray_compat=0 constrained_intra=0 bframes=3 b_pyramid=2 b_adapt=1 b_bias=0 direct=1 weightb=1 open_gop=0 weightp=2 keyint=250 keyint_min=25 scenecut=40 intra_refresh=0 rc_lookahead=40 rc=crf mbtree=1 crf=23.0 qcomp=0.60 qpmin=0 qpmax=69 qpstep=4 ip_ratio=1.40 aq=1:1.00\n",
            "Output #0, mp4, to '/content/result/Иванов_Дмитрий_-_Современная_аналитическая_философия_MERGED_ALTERED.mp4':\n",
            "  Metadata:\n",
            "    encoder         : Lavf57.83.100\n",
            "    Stream #0:0: Video: h264 (libx264) (avc1 / 0x31637661), yuvj420p(pc, progressive), 854x480 [SAR 1:1 DAR 427:240], q=-1--1, 25 fps, 12800 tbn, 25 tbc\n",
            "    Metadata:\n",
            "      encoder         : Lavc57.107.100 libx264\n",
            "    Side data:\n",
            "      cpb: bitrate max/min/avg: 0/0/0 buffer size: 0 vbv_delay: -1\n",
            "    Stream #0:1: Audio: aac (LC) (mp4a / 0x6134706D), 44100 Hz, stereo, fltp, 128 kb/s\n",
            "    Metadata:\n",
            "      encoder         : Lavc57.107.100 aac\n",
            "frame=13704 fps= 60 q=-1.0 Lsize=   37870kB time=00:09:08.15 bitrate= 566.0kbits/s speed=2.41x    \n",
            "video:28842kB audio:8578kB subtitle:0kB other streams:0kB global headers:0kB muxing overhead: 1.201810%\n",
            "\u001b[1;36m[libx264 @ 0x564066614d00] \u001b[0mframe I:84    Avg QP:13.39  size: 19220\n",
            "\u001b[1;36m[libx264 @ 0x564066614d00] \u001b[0mframe P:3501  Avg QP:23.31  size:  5852\n",
            "\u001b[1;36m[libx264 @ 0x564066614d00] \u001b[0mframe B:10119 Avg QP:24.78  size:   734\n",
            "\u001b[1;36m[libx264 @ 0x564066614d00] \u001b[0mconsecutive B-frames:  1.2%  0.8%  1.1% 97.0%\n",
            "\u001b[1;36m[libx264 @ 0x564066614d00] \u001b[0mmb I  I16..4: 47.1% 48.1%  4.8%\n",
            "\u001b[1;36m[libx264 @ 0x564066614d00] \u001b[0mmb P  I16..4:  0.5%  5.6%  0.2%  P16..4: 13.3%  9.7%  6.2%  0.0%  0.0%    skip:64.4%\n",
            "\u001b[1;36m[libx264 @ 0x564066614d00] \u001b[0mmb B  I16..4:  0.1%  0.2%  0.0%  B16..8: 16.4%  2.1%  0.2%  direct: 0.7%  skip:80.3%  L0:41.1% L1:44.0% BI:14.9%\n",
            "\u001b[1;36m[libx264 @ 0x564066614d00] \u001b[0m8x8 transform intra:77.8% inter:66.1%\n",
            "\u001b[1;36m[libx264 @ 0x564066614d00] \u001b[0mcoded y,uvDC,uvAC intra: 44.3% 41.9% 5.1% inter: 4.7% 3.3% 0.0%\n",
            "\u001b[1;36m[libx264 @ 0x564066614d00] \u001b[0mi16 v,h,dc,p: 75% 12%  7%  6%\n",
            "\u001b[1;36m[libx264 @ 0x564066614d00] \u001b[0mi8 v,h,dc,ddl,ddr,vr,hd,vl,hu: 20% 17% 45%  3%  3%  3%  3%  4%  4%\n",
            "\u001b[1;36m[libx264 @ 0x564066614d00] \u001b[0mi4 v,h,dc,ddl,ddr,vr,hd,vl,hu: 21% 14% 14%  6% 10% 10% 10%  9%  5%\n",
            "\u001b[1;36m[libx264 @ 0x564066614d00] \u001b[0mi8c dc,h,v,p: 62% 16% 19%  3%\n",
            "\u001b[1;36m[libx264 @ 0x564066614d00] \u001b[0mWeighted P-Frames: Y:1.3% UV:0.9%\n",
            "\u001b[1;36m[libx264 @ 0x564066614d00] \u001b[0mref P L0: 54.1% 19.7% 20.3%  5.9%  0.0%\n",
            "\u001b[1;36m[libx264 @ 0x564066614d00] \u001b[0mref B L0: 89.4%  8.8%  1.8%\n",
            "\u001b[1;36m[libx264 @ 0x564066614d00] \u001b[0mref B L1: 96.7%  3.3%\n",
            "\u001b[1;36m[libx264 @ 0x564066614d00] \u001b[0mkb/s:431.03\n",
            "\u001b[1;36m[aac @ 0x564066974000] \u001b[0mQavg: 976.352\n",
            "CPU times: user 1.71 s, sys: 265 ms, total: 1.98 s\n",
            "Wall time: 6min 4s\n"
          ],
          "name": "stdout"
        }
      ]
    },
    {
      "cell_type": "code",
      "metadata": {
        "id": "ZK5Kazr8dvmO"
      },
      "source": [
        ""
      ],
      "execution_count": null,
      "outputs": []
    }
  ]
}